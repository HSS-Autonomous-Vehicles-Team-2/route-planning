{
 "cells": [
  {
   "cell_type": "code",
   "execution_count": 1,
   "metadata": {},
   "outputs": [],
   "source": [
    "from jetbot import Robot\n",
    "robot = Robot()"
   ]
  },
  {
   "cell_type": "code",
   "execution_count": 21,
   "metadata": {},
   "outputs": [],
   "source": [
    "#square wave speed profile\n",
    "import threading\n",
    "tt = threading.Timer(0.1, print,['tt'])\n",
    "\n",
    "def accel():\n",
    "    print('accel')\n",
    "    global tt\n",
    "    robot.left_motor.value = 0.3\n",
    "    robot.right_motor.value = 0.3\n",
    "    tt.cancel()\n",
    "    tt = threading.Timer(0.01, coast)\n",
    "    tt.start()\n",
    "    \n",
    "def coast():\n",
    "    print('coast')\n",
    "    global tt\n",
    "    robot.left_motor.value = 0.21\n",
    "    robot.right_motor.value = 0.21\n",
    "    tt.cancel()\n",
    "    tt = threading.Timer(1, accel)\n",
    "    tt.start()"
   ]
  },
  {
   "cell_type": "code",
   "execution_count": 22,
   "metadata": {},
   "outputs": [
    {
     "name": "stdout",
     "output_type": "stream",
     "text": [
      "accel\n",
      "coast\n",
      "accel\n",
      "coast\n",
      "done\n"
     ]
    }
   ],
   "source": [
    "import time\n",
    "tt = threading.Timer(0.1, print,['tt'])\n",
    "pp = time.time()+2\n",
    "accel()\n",
    "\n",
    "while True:\n",
    "    if time.time()>pp:\n",
    "        break\n",
    "\n",
    "print('done')\n",
    "\n",
    "while robot.left_motor.value != 0 or robot.right_motor.value !=0:\n",
    "    #robot.left_motor.value = 0\n",
    "    #robot.right_motor.value = 0\n",
    "    try: tt.cancel() \n",
    "    except: pass\n",
    "    try: robot.stop()\n",
    "    except: pass"
   ]
  },
  {
   "cell_type": "code",
   "execution_count": 137,
   "metadata": {},
   "outputs": [],
   "source": [
    "#slowest possible fwd\n",
    "import time\n",
    "tt = time.time()+4\n",
    "while time.time()<tt:\n",
    "    robot.left_motor.value = 0.28\n",
    "    robot.right_motor.value = 0.28\n",
    "    robot.left_motor.value = 0.21\n",
    "    robot.right_motor.value = 0.21\n",
    "robot.stop()"
   ]
  },
  {
   "cell_type": "code",
   "execution_count": 138,
   "metadata": {},
   "outputs": [],
   "source": [
    "robot.stop()"
   ]
  },
  {
   "cell_type": "code",
   "execution_count": 139,
   "metadata": {},
   "outputs": [],
   "source": [
    "#slowest possible right\n",
    "robot.left_motor.value = 0.3\n",
    "robot.right_motor.value = -0.3\n",
    "robot.left_motor.value = 0.27\n",
    "robot.right_motor.value = -0.27"
   ]
  },
  {
   "cell_type": "code",
   "execution_count": 140,
   "metadata": {},
   "outputs": [],
   "source": [
    "robot.stop()"
   ]
  },
  {
   "cell_type": "code",
   "execution_count": 133,
   "metadata": {},
   "outputs": [],
   "source": [
    "#slowest possible left\n",
    "robot.left_motor.value = -0.3\n",
    "robot.right_motor.value = 0.3\n",
    "robot.left_motor.value = -0.27\n",
    "robot.right_motor.value = 0.27"
   ]
  },
  {
   "cell_type": "code",
   "execution_count": 134,
   "metadata": {},
   "outputs": [],
   "source": [
    "robot.stop()"
   ]
  },
  {
   "cell_type": "code",
   "execution_count": null,
   "metadata": {},
   "outputs": [],
   "source": [
    "robot.stop()"
   ]
  },
  {
   "cell_type": "code",
   "execution_count": null,
   "metadata": {},
   "outputs": [],
   "source": [
    "tt.cancel()"
   ]
  },
  {
   "cell_type": "code",
   "execution_count": null,
   "metadata": {},
   "outputs": [],
   "source": [
    "robot.stop()"
   ]
  },
  {
   "cell_type": "code",
   "execution_count": null,
   "metadata": {},
   "outputs": [],
   "source": []
  }
 ],
 "metadata": {
  "kernelspec": {
   "display_name": "Python 3",
   "language": "python",
   "name": "python3"
  },
  "language_info": {
   "codemirror_mode": {
    "name": "ipython",
    "version": 3
   },
   "file_extension": ".py",
   "mimetype": "text/x-python",
   "name": "python",
   "nbconvert_exporter": "python",
   "pygments_lexer": "ipython3",
   "version": "3.6.9"
  }
 },
 "nbformat": 4,
 "nbformat_minor": 4
}
