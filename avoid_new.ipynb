{
 "cells": [
  {
   "cell_type": "code",
   "execution_count": 1,
   "metadata": {},
   "outputs": [],
   "source": [
    "from jetbot import ObjectDetector\n",
    "from jetbot import Camera\n",
    "from jetbot import Robot\n",
    "from jetbot import bgr8_to_jpeg\n",
    "import ipywidgets.widgets as widgets\n",
    "import cv2\n",
    "import numpy as np\n",
    "import time\n",
    "\n",
    "model = ObjectDetector('ssd_mobilenet_v2_coco.engine')\n",
    "camera = Camera.instance(width=300, height=300, fps=5)\n",
    "robot = Robot()"
   ]
  },
  {
   "cell_type": "code",
   "execution_count": 2,
   "metadata": {},
   "outputs": [],
   "source": [
    "###### definitions #######\n",
    "\n",
    "target = 1 # arbitrary final target (human)\n",
    "obstacle = 3 # arbitrary obstacle (apple)\n",
    "global backingup\n",
    "backingup = False\n",
    "isEndReached = False\n"
   ]
  },
  {
   "cell_type": "code",
   "execution_count": 3,
   "metadata": {},
   "outputs": [],
   "source": [
    "imageFeed = widgets.Image(format='jpeg', width=300, height=300)\n",
    "speedSlider = widgets.FloatSlider(value=0.3, min=0.0, max=1.0, description='speed')\n",
    "\n",
    "width = int(imageFeed.width)\n",
    "height = int(imageFeed.height)"
   ]
  },
  {
   "cell_type": "code",
   "execution_count": 14,
   "metadata": {},
   "outputs": [],
   "source": [
    "def move_back(direction=\"left\"):\n",
    "    robot.stop()\n",
    "    robot.backward(speedSlider.value)\n",
    "\n",
    "    global backingup\n",
    "    backingup = True\n",
    "    \n",
    "def avoid_obstacle(direction=\"left\"):\n",
    "    robot.left(speedSlider.value)\n",
    "    time.sleep(0.4)\n",
    "    robot.stop()\n",
    "    \n",
    "    robot.left_motor.value = speedSlider.value + 0.1\n",
    "    robot.right_motor.value = speedSlider.value\n",
    "    time.sleep(1.5)\n",
    "    robot.stop()\n"
   ]
  },
  {
   "cell_type": "code",
   "execution_count": 5,
   "metadata": {},
   "outputs": [
    {
     "data": {
      "application/vnd.jupyter.widget-view+json": {
       "model_id": "f89131ff0c7f484c9648bbb5a5a8a873",
       "version_major": 2,
       "version_minor": 0
      },
      "text/plain": [
       "VBox(children=(HBox(children=(Image(value=b'', format='jpeg', height='300', width='300'),)), FloatSlider(value…"
      ]
     },
     "metadata": {},
     "output_type": "display_data"
    }
   ],
   "source": [
    "display(widgets.VBox([widgets.HBox([imageFeed]), speedSlider]))\n",
    "\n",
    "object_arr = [1, 3] # List of valid obstacles\n",
    "diff = 50\n",
    "\n",
    "def run(change):\n",
    "    image = change['new']\n",
    "    \n",
    "    detections = model(image)\n",
    "    imageFeed.value = bgr8_to_jpeg(image)\n",
    "    \n",
    "    for detection in detections[0]:\n",
    "        bbox = detection['bbox']\n",
    "        label = detection['label']\n",
    "        \n",
    "        if label in object_arr:\n",
    "            cv2.rectangle(image, (int(width * bbox[0]), int(height * bbox[1])), (int(width * bbox[2]), int(height * bbox[3])), (92, 212, 74), 2)\n",
    "            cv2.putText(image, \"\", (int(width * bbox[0]), int(height * bbox[1]) - 10), cv2.FONT_HERSHEY_SIMPLEX, 0.5, (92, 212, 74))\n",
    "            \n",
    "            if int(height * bbox[3]) > height - diff:\n",
    "                move_back()\n",
    "                \n",
    "            global backingup\n",
    "            if backingup and int(height * bbox[3]) < height - diff + 10:\n",
    "                robot.stop()\n",
    "                backingup = False\n",
    "                avoid_obstacle()\n",
    "    \n",
    "    imageFeed.value = bgr8_to_jpeg(image)\n",
    "    \n",
    "    # additional methds, although the lock on method will probably just be added to original file"
   ]
  },
  {
   "cell_type": "code",
   "execution_count": 26,
   "metadata": {},
   "outputs": [],
   "source": [
    "camera.observe(run, names='value')  "
   ]
  },
  {
   "cell_type": "code",
   "execution_count": 27,
   "metadata": {},
   "outputs": [],
   "source": [
    "robot.forward(speedSlider.value)"
   ]
  },
  {
   "cell_type": "code",
   "execution_count": 25,
   "metadata": {},
   "outputs": [],
   "source": [
    "camera.unobserve_all()\n",
    "robot.stop()"
   ]
  },
  {
   "cell_type": "code",
   "execution_count": null,
   "metadata": {},
   "outputs": [],
   "source": []
  }
 ],
 "metadata": {
  "kernelspec": {
   "display_name": "Python 3",
   "language": "python",
   "name": "python3"
  },
  "language_info": {
   "codemirror_mode": {
    "name": "ipython",
    "version": 3
   },
   "file_extension": ".py",
   "mimetype": "text/x-python",
   "name": "python",
   "nbconvert_exporter": "python",
   "pygments_lexer": "ipython3",
   "version": "3.6.9"
  }
 },
 "nbformat": 4,
 "nbformat_minor": 4
}
